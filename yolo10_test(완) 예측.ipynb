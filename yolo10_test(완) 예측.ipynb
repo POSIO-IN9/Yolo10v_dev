{
 "cells": [
  {
   "cell_type": "code",
   "execution_count": 1,
   "metadata": {},
   "outputs": [
    {
     "data": {
      "text/plain": [
       "device(type='cuda', index=0)"
      ]
     },
     "execution_count": 1,
     "metadata": {},
     "output_type": "execute_result"
    }
   ],
   "source": [
    "import torch\n",
    "device = torch.device(\"cuda:0\" if torch.cuda.is_available() else \"cpu\")\n",
    "device"
   ]
  },
  {
   "cell_type": "code",
   "execution_count": 33,
   "metadata": {},
   "outputs": [
    {
     "name": "stdout",
     "output_type": "stream",
     "text": [
      "\n",
      "0: 640x640 (no detections), 59.8ms\n",
      "Speed: 10.1ms preprocess, 59.8ms inference, 0.0ms postprocess per image at shape (1, 3, 640, 640)\n",
      "fruit\n"
     ]
    }
   ],
   "source": [
    "from return_detaction import detaction\n",
    "\n",
    "# 테스트할 이미지 경로\n",
    "imgpath = \"./datasets/test/images/07_20201028_567327.jpg\"\n",
    "\n",
    "# 객체 감지 수행\n",
    "detected_labels = detaction(imgpath)\n",
    "\n",
    "# 감지된 객체의 라벨 출력\n",
    "print(detected_labels[0][0])"
   ]
  },
  {
   "cell_type": "code",
   "execution_count": 27,
   "metadata": {},
   "outputs": [
    {
     "data": {
      "text/plain": [
       "ultralytics.engine.results.Results object with attributes:\n",
       "\n",
       "boxes: ultralytics.engine.results.Boxes object\n",
       "keypoints: None\n",
       "masks: None\n",
       "names: {0: 'fruit', 1: 'buds', 2: 'stem', 3: 'leaf'}\n",
       "obb: None\n",
       "orig_img: array([[[255, 255, 255],\n",
       "        [255, 255, 255],\n",
       "        [255, 255, 255],\n",
       "        ...,\n",
       "        [ 52, 110,  82],\n",
       "        [ 52, 110,  82],\n",
       "        [ 52, 110,  82]],\n",
       "\n",
       "       [[255, 255, 255],\n",
       "        [255, 255, 255],\n",
       "        [255, 255, 255],\n",
       "        ...,\n",
       "        [ 52, 110,  82],\n",
       "        [ 52, 110,  82],\n",
       "        [ 52, 110,  82]],\n",
       "\n",
       "       [[255, 255, 255],\n",
       "        [255, 255, 255],\n",
       "        [255, 255, 255],\n",
       "        ...,\n",
       "        [ 52, 110,  82],\n",
       "        [ 52, 110,  82],\n",
       "        [ 52, 110,  82]],\n",
       "\n",
       "       ...,\n",
       "\n",
       "       [[ 29,  25,  14],\n",
       "        [ 28,  24,  13],\n",
       "        [ 34,  29,  20],\n",
       "        ...,\n",
       "        [ 16,  76,  46],\n",
       "        [ 18,  78,  48],\n",
       "        [ 20,  80,  50]],\n",
       "\n",
       "       [[ 31,  27,  16],\n",
       "        [ 29,  25,  14],\n",
       "        [ 33,  28,  19],\n",
       "        ...,\n",
       "        [ 18,  78,  48],\n",
       "        [ 20,  80,  50],\n",
       "        [ 22,  82,  52]],\n",
       "\n",
       "       [[ 33,  29,  18],\n",
       "        [ 30,  26,  15],\n",
       "        [ 32,  27,  18],\n",
       "        ...,\n",
       "        [ 20,  80,  50],\n",
       "        [ 21,  81,  51],\n",
       "        [ 23,  83,  53]]], dtype=uint8)\n",
       "orig_shape: (640, 640)\n",
       "path: 'image0.jpg'\n",
       "probs: None\n",
       "save_dir: 'runs\\\\detect\\\\predict'\n",
       "speed: {'preprocess': 4.014730453491211, 'inference': 33.881187438964844, 'postprocess': 1.9943714141845703}"
      ]
     },
     "execution_count": 27,
     "metadata": {},
     "output_type": "execute_result"
    }
   ],
   "source": [
    "results[0]"
   ]
  },
  {
   "cell_type": "code",
   "execution_count": null,
   "metadata": {},
   "outputs": [],
   "source": []
  }
 ],
 "metadata": {
  "kernelspec": {
   "display_name": "py3_11",
   "language": "python",
   "name": "python3"
  },
  "language_info": {
   "codemirror_mode": {
    "name": "ipython",
    "version": 3
   },
   "file_extension": ".py",
   "mimetype": "text/x-python",
   "name": "python",
   "nbconvert_exporter": "python",
   "pygments_lexer": "ipython3",
   "version": "3.11.9"
  }
 },
 "nbformat": 4,
 "nbformat_minor": 2
}
